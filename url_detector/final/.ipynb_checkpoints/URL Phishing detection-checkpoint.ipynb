{
 "cells": [
  {
   "cell_type": "code",
   "execution_count": 1,
   "metadata": {},
   "outputs": [
    {
     "ename": "ModuleNotFoundError",
     "evalue": "No module named 'pandas'",
     "output_type": "error",
     "traceback": [
      "\u001b[0;31m---------------------------------------------------------------------------\u001b[0m",
      "\u001b[0;31mModuleNotFoundError\u001b[0m                       Traceback (most recent call last)",
      "\u001b[0;32m<ipython-input-1-6e8c7323bc7a>\u001b[0m in \u001b[0;36m<module>\u001b[0;34m\u001b[0m\n\u001b[1;32m      1\u001b[0m \u001b[0;31m# data preprocessing\u001b[0m\u001b[0;34m\u001b[0m\u001b[0;34m\u001b[0m\u001b[0;34m\u001b[0m\u001b[0m\n\u001b[0;32m----> 2\u001b[0;31m \u001b[0;32mimport\u001b[0m \u001b[0mpandas\u001b[0m \u001b[0;32mas\u001b[0m \u001b[0mpd\u001b[0m\u001b[0;34m\u001b[0m\u001b[0;34m\u001b[0m\u001b[0m\n\u001b[0m\u001b[1;32m      3\u001b[0m \u001b[0;31m# import numPy as np\u001b[0m\u001b[0;34m\u001b[0m\u001b[0;34m\u001b[0m\u001b[0;34m\u001b[0m\u001b[0m\n\u001b[1;32m      4\u001b[0m \u001b[0;34m\u001b[0m\u001b[0m\n\u001b[1;32m      5\u001b[0m \u001b[0murls_dataset\u001b[0m \u001b[0;34m=\u001b[0m \u001b[0mpd\u001b[0m\u001b[0;34m.\u001b[0m\u001b[0mread_csv\u001b[0m\u001b[0;34m(\u001b[0m\u001b[0;34m'dataset2.csv'\u001b[0m\u001b[0;34m)\u001b[0m\u001b[0;34m\u001b[0m\u001b[0;34m\u001b[0m\u001b[0m\n",
      "\u001b[0;31mModuleNotFoundError\u001b[0m: No module named 'pandas'"
     ]
    }
   ],
   "source": [
    "# data preprocessing\n",
    "import pandas as pd\n",
    "# import numPy as np\n",
    "\n",
    "urls_dataset = pd.read_csv('dataset2.csv')\n",
    "\n",
    "# urls_dataset"
   ]
  },
  {
   "cell_type": "code",
   "execution_count": null,
   "metadata": {},
   "outputs": [],
   "source": [
    "seperation_protocal = urls_dataset['URL'].str.split('//', expand = True)\n",
    "seperation_domain_name = seperation_protocal[1].str.split('/', 1, expand = True)\n",
    "seperation_domain_name"
   ]
  },
  {
   "cell_type": "code",
   "execution_count": null,
   "metadata": {},
   "outputs": [],
   "source": [
    "splited_data = pd.concat([seperation_protocal[0],seperation_domain_name],axis=1)\n",
    "# splited_data\n",
    "splited_data.columns=[\"protocal\", \"Domain_name\", \"Address\"]"
   ]
  },
  {
   "cell_type": "code",
   "execution_count": null,
   "metadata": {},
   "outputs": [],
   "source": [
    "\n",
    "splited_data[\"is_phished\"]=pd.Series( urls_dataset[\"Target\"])\n"
   ]
  },
  {
   "cell_type": "code",
   "execution_count": null,
   "metadata": {},
   "outputs": [],
   "source": [
    "splited_data"
   ]
  },
  {
   "cell_type": "code",
   "execution_count": null,
   "metadata": {
    "scrolled": true
   },
   "outputs": [],
   "source": [
    "# Feature extraction\n",
    "\n",
    "# long url\n",
    "#  phishing =2 suspicious=1 legit=0\n",
    "def long_url(l):\n",
    "    l = str(l)\n",
    "    if len(l) < 54:\n",
    "        return 0\n",
    "    elif len(l) >= 54 and len(l) < 75:    \n",
    "        return 1\n",
    "    return 2\n",
    "splited_data['long_url'] = urls_dataset['URL'].apply(long_url)\n",
    "splited_data[splited_data.long_url==0] "
   ]
  },
  {
   "cell_type": "code",
   "execution_count": null,
   "metadata": {},
   "outputs": [],
   "source": [
    "# URL having @ symbol\n",
    "def at_symbol(l):\n",
    "    if '@' in  str(l):\n",
    "        return 1\n",
    "    return 0\n",
    "splited_data['at_symbol'] = urls_dataset['URL'].apply(at_symbol)\n",
    "splited_data[splited_data.at_symbol == 0]\n",
    "# del splited_data['@ symbol']\n",
    "# splited_data"
   ]
  },
  {
   "cell_type": "code",
   "execution_count": null,
   "metadata": {},
   "outputs": [],
   "source": [
    "# redirecting \"//\" symbol\n",
    "def redirecting_symbol(l):\n",
    "    if '//' in str(l):\n",
    "        return 1\n",
    "    return 0\n",
    "splited_data['redirecting'] = seperation_protocal[1].apply(redirecting_symbol)\n",
    "splited_data[splited_data.redirecting == 0]"
   ]
  },
  {
   "cell_type": "code",
   "execution_count": null,
   "metadata": {},
   "outputs": [],
   "source": [
    "# Adding  prefix or suffix seperated \n",
    "def prefix_symbol(l):\n",
    "    if '-' in str(l):\n",
    "        return 1\n",
    "    return 0\n",
    "splited_data['prefix_suffix'] = splited_data['Domain_name'].apply(prefix_symbol)\n",
    "# del splited_data['prefix/suffix']\n",
    "splited_data[splited_data.prefix_suffix == 0]"
   ]
  },
  {
   "cell_type": "code",
   "execution_count": null,
   "metadata": {},
   "outputs": [],
   "source": [
    "# sub- domain and multi domains\n",
    "def domain_symbol(l):\n",
    "    l = str(l)\n",
    "    if l.count('.') > 3:\n",
    "        return 2\n",
    "    elif '.' == 3:\n",
    "        return 1\n",
    "    return 0\n",
    "splited_data['domain_sub_domain']= splited_data['Domain_name'].apply(domain_symbol)\n",
    "splited_data[splited_data.domain_sub_domain == 0]\n",
    "        "
   ]
  },
  {
   "cell_type": "code",
   "execution_count": null,
   "metadata": {},
   "outputs": [],
   "source": [
    "# cgecking protocal\n",
    "def protocal(l):\n",
    "    if 's' in str(l):\n",
    "        return 0\n",
    "    return 1\n",
    "splited_data['check_protocal'] = splited_data['protocal'].apply(protocal)\n",
    "splited_data[splited_data.check_protocal == 0]"
   ]
  },
  {
   "cell_type": "code",
   "execution_count": null,
   "metadata": {},
   "outputs": [],
   "source": [
    "def dash(l):\n",
    "    if '-' in str(l):\n",
    "        return 1\n",
    "    return 0\n",
    "splited_data['check_dash'] = splited_data['Domain_name'].apply(dash)\n",
    "splited_data[splited_data.check_dash == 0]"
   ]
  },
  {
   "cell_type": "code",
   "execution_count": null,
   "metadata": {},
   "outputs": [],
   "source": [
    "splited_data.head()"
   ]
  },
  {
   "cell_type": "code",
   "execution_count": null,
   "metadata": {},
   "outputs": [],
   "source": [
    "from sklearn.ensemble import RandomForestClassifier\n",
    "from sklearn.model_selection import train_test_split\n",
    "\n",
    "X = splited_data.drop(columns = ['protocal','Domain_name', 'Address', 'is_phished'])\n",
    "X"
   ]
  },
  {
   "cell_type": "code",
   "execution_count": null,
   "metadata": {},
   "outputs": [],
   "source": [
    "y = pd.factorize(splited_data['is_phished'])[0]\n",
    "# print(X.shape)\n",
    "# print(y.shape)\n",
    "X_train, X_test, y_train, y_test = train_test_split(X, y, test_size = 0.2)\n",
    "url_model=RandomForestClassifier(n_estimators=100,n_jobs=2,random_state=0)\n",
    "url_model.fit(X_train, y_train)\n",
    "prediction_model = url_model.predict(X_test)\n",
    "y_test"
   ]
  },
  {
   "cell_type": "code",
   "execution_count": null,
   "metadata": {},
   "outputs": [],
   "source": [
    "from sklearn.metrics import confusion_matrix, accuracy_score\n",
    "\n",
    "# prediction_model\n",
    "accuracy_score(y_test,prediction_model)"
   ]
  },
  {
   "cell_type": "code",
   "execution_count": null,
   "metadata": {},
   "outputs": [],
   "source": [
    "import pickle\n",
    "with open('model_pickle', 'wb') as f:\n",
    "    pickle.dump(url_model,f)"
   ]
  }
 ],
 "metadata": {
  "kernelspec": {
   "display_name": "Python 3",
   "language": "python",
   "name": "python3"
  },
  "language_info": {
   "codemirror_mode": {
    "name": "ipython",
    "version": 3
   },
   "file_extension": ".py",
   "mimetype": "text/x-python",
   "name": "python",
   "nbconvert_exporter": "python",
   "pygments_lexer": "ipython3",
   "version": "3.7.3"
  }
 },
 "nbformat": 4,
 "nbformat_minor": 2
}
